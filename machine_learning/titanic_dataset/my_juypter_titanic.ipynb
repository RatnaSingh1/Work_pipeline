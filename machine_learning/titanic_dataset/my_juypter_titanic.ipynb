{
 "cells": [
  {
   "cell_type": "code",
   "execution_count": 224,
   "id": "7887af23",
   "metadata": {},
   "outputs": [],
   "source": [
    "import pandas as pd\n",
    "import numpy as np\n",
    "import matplotlib.pyplot as plt\n",
    "import seaborn as sns\n",
    "from sklearn.preprocessing import LabelEncoder\n",
    "\n",
    "from sklearn.model_selection import train_test_split\n",
    "\n",
    "\n",
    "from sklearn.model_selection import train_test_split\n",
    "from sklearn.metrics import accuracy_score\n",
    "from sklearn.linear_model import LogisticRegression,LogisticRegressionCV,SGDClassifier\n",
    "from sklearn.ensemble import RandomForestClassifier, GradientBoostingClassifier,AdaBoostClassifier\n",
    "from sklearn.tree import DecisionTreeClassifier\n",
    "from sklearn.svm import SVC\n",
    "from sklearn.neighbors import KNeighborsClassifier\n",
    "import matplotlib.pyplot as plt\n",
    "import seaborn as sns\n",
    "from sklearn.preprocessing import OneHotEncoder,LabelEncoder, OrdinalEncoder"
   ]
  },
  {
   "cell_type": "code",
   "execution_count": 7,
   "id": "a6252c9c",
   "metadata": {},
   "outputs": [
    {
     "name": "stdout",
     "output_type": "stream",
     "text": [
      "False\n",
      "0\n"
     ]
    },
    {
     "ename": "AssertionError",
     "evalue": "Torch not compiled with CUDA enabled",
     "output_type": "error",
     "traceback": [
      "\u001b[1;31m---------------------------------------------------------------------------\u001b[0m",
      "\u001b[1;31mAssertionError\u001b[0m                            Traceback (most recent call last)",
      "Cell \u001b[1;32mIn[7], line 4\u001b[0m\n\u001b[0;32m      2\u001b[0m \u001b[38;5;28mprint\u001b[39m(torch\u001b[38;5;241m.\u001b[39mcuda\u001b[38;5;241m.\u001b[39mis_available())  \u001b[38;5;66;03m# Should return True\u001b[39;00m\n\u001b[0;32m      3\u001b[0m \u001b[38;5;28mprint\u001b[39m(torch\u001b[38;5;241m.\u001b[39mcuda\u001b[38;5;241m.\u001b[39mdevice_count())  \u001b[38;5;66;03m# Number of GPUs available\u001b[39;00m\n\u001b[1;32m----> 4\u001b[0m \u001b[38;5;28mprint\u001b[39m(torch\u001b[38;5;241m.\u001b[39mcuda\u001b[38;5;241m.\u001b[39mget_device_name(\u001b[38;5;241m0\u001b[39m))\n",
      "File \u001b[1;32mc:\\Users\\ratsa\\anaconda3\\Lib\\site-packages\\torch\\cuda\\__init__.py:493\u001b[0m, in \u001b[0;36mget_device_name\u001b[1;34m(device)\u001b[0m\n\u001b[0;32m    481\u001b[0m \u001b[38;5;28;01mdef\u001b[39;00m \u001b[38;5;21mget_device_name\u001b[39m(device: Optional[_device_t] \u001b[38;5;241m=\u001b[39m \u001b[38;5;28;01mNone\u001b[39;00m) \u001b[38;5;241m-\u001b[39m\u001b[38;5;241m>\u001b[39m \u001b[38;5;28mstr\u001b[39m:\n\u001b[0;32m    482\u001b[0m \u001b[38;5;250m    \u001b[39m\u001b[38;5;124mr\u001b[39m\u001b[38;5;124;03m\"\"\"Get the name of a device.\u001b[39;00m\n\u001b[0;32m    483\u001b[0m \n\u001b[0;32m    484\u001b[0m \u001b[38;5;124;03m    Args:\u001b[39;00m\n\u001b[1;32m   (...)\u001b[0m\n\u001b[0;32m    491\u001b[0m \u001b[38;5;124;03m        str: the name of the device\u001b[39;00m\n\u001b[0;32m    492\u001b[0m \u001b[38;5;124;03m    \"\"\"\u001b[39;00m\n\u001b[1;32m--> 493\u001b[0m     \u001b[38;5;28;01mreturn\u001b[39;00m get_device_properties(device)\u001b[38;5;241m.\u001b[39mname\n",
      "File \u001b[1;32mc:\\Users\\ratsa\\anaconda3\\Lib\\site-packages\\torch\\cuda\\__init__.py:523\u001b[0m, in \u001b[0;36mget_device_properties\u001b[1;34m(device)\u001b[0m\n\u001b[0;32m    513\u001b[0m \u001b[38;5;28;01mdef\u001b[39;00m \u001b[38;5;21mget_device_properties\u001b[39m(device: _device_t) \u001b[38;5;241m-\u001b[39m\u001b[38;5;241m>\u001b[39m _CudaDeviceProperties:\n\u001b[0;32m    514\u001b[0m \u001b[38;5;250m    \u001b[39m\u001b[38;5;124mr\u001b[39m\u001b[38;5;124;03m\"\"\"Get the properties of a device.\u001b[39;00m\n\u001b[0;32m    515\u001b[0m \n\u001b[0;32m    516\u001b[0m \u001b[38;5;124;03m    Args:\u001b[39;00m\n\u001b[1;32m   (...)\u001b[0m\n\u001b[0;32m    521\u001b[0m \u001b[38;5;124;03m        _CudaDeviceProperties: the properties of the device\u001b[39;00m\n\u001b[0;32m    522\u001b[0m \u001b[38;5;124;03m    \"\"\"\u001b[39;00m\n\u001b[1;32m--> 523\u001b[0m     _lazy_init()  \u001b[38;5;66;03m# will define _get_device_properties\u001b[39;00m\n\u001b[0;32m    524\u001b[0m     device \u001b[38;5;241m=\u001b[39m _get_device_index(device, optional\u001b[38;5;241m=\u001b[39m\u001b[38;5;28;01mTrue\u001b[39;00m)\n\u001b[0;32m    525\u001b[0m     \u001b[38;5;28;01mif\u001b[39;00m device \u001b[38;5;241m<\u001b[39m \u001b[38;5;241m0\u001b[39m \u001b[38;5;129;01mor\u001b[39;00m device \u001b[38;5;241m>\u001b[39m\u001b[38;5;241m=\u001b[39m device_count():\n",
      "File \u001b[1;32mc:\\Users\\ratsa\\anaconda3\\Lib\\site-packages\\torch\\cuda\\__init__.py:310\u001b[0m, in \u001b[0;36m_lazy_init\u001b[1;34m()\u001b[0m\n\u001b[0;32m    305\u001b[0m     \u001b[38;5;28;01mraise\u001b[39;00m \u001b[38;5;167;01mRuntimeError\u001b[39;00m(\n\u001b[0;32m    306\u001b[0m         \u001b[38;5;124m\"\u001b[39m\u001b[38;5;124mCannot re-initialize CUDA in forked subprocess. To use CUDA with \u001b[39m\u001b[38;5;124m\"\u001b[39m\n\u001b[0;32m    307\u001b[0m         \u001b[38;5;124m\"\u001b[39m\u001b[38;5;124mmultiprocessing, you must use the \u001b[39m\u001b[38;5;124m'\u001b[39m\u001b[38;5;124mspawn\u001b[39m\u001b[38;5;124m'\u001b[39m\u001b[38;5;124m start method\u001b[39m\u001b[38;5;124m\"\u001b[39m\n\u001b[0;32m    308\u001b[0m     )\n\u001b[0;32m    309\u001b[0m \u001b[38;5;28;01mif\u001b[39;00m \u001b[38;5;129;01mnot\u001b[39;00m \u001b[38;5;28mhasattr\u001b[39m(torch\u001b[38;5;241m.\u001b[39m_C, \u001b[38;5;124m\"\u001b[39m\u001b[38;5;124m_cuda_getDeviceCount\u001b[39m\u001b[38;5;124m\"\u001b[39m):\n\u001b[1;32m--> 310\u001b[0m     \u001b[38;5;28;01mraise\u001b[39;00m \u001b[38;5;167;01mAssertionError\u001b[39;00m(\u001b[38;5;124m\"\u001b[39m\u001b[38;5;124mTorch not compiled with CUDA enabled\u001b[39m\u001b[38;5;124m\"\u001b[39m)\n\u001b[0;32m    311\u001b[0m \u001b[38;5;28;01mif\u001b[39;00m _cudart \u001b[38;5;129;01mis\u001b[39;00m \u001b[38;5;28;01mNone\u001b[39;00m:\n\u001b[0;32m    312\u001b[0m     \u001b[38;5;28;01mraise\u001b[39;00m \u001b[38;5;167;01mAssertionError\u001b[39;00m(\n\u001b[0;32m    313\u001b[0m         \u001b[38;5;124m\"\u001b[39m\u001b[38;5;124mlibcudart functions unavailable. It looks like you have a broken build?\u001b[39m\u001b[38;5;124m\"\u001b[39m\n\u001b[0;32m    314\u001b[0m     )\n",
      "\u001b[1;31mAssertionError\u001b[0m: Torch not compiled with CUDA enabled"
     ]
    }
   ],
   "source": [
    "import torch\n",
    "print(torch.cuda.is_available())  # Should return True\n",
    "print(torch.cuda.device_count())  # Number of GPUs available\n",
    "print(torch.cuda.get_device_name(0))  # Your NVIDIA GPU name"
   ]
  },
  {
   "cell_type": "code",
   "execution_count": 225,
   "id": "07e189c9",
   "metadata": {},
   "outputs": [
    {
     "name": "stdout",
     "output_type": "stream",
     "text": [
      "   PassengerId  Survived  Pclass  \\\n",
      "0            1         0       3   \n",
      "1            2         1       1   \n",
      "2            3         1       3   \n",
      "3            4         1       1   \n",
      "4            5         0       3   \n",
      "\n",
      "                                                Name     Sex   Age  SibSp  \\\n",
      "0                            Braund, Mr. Owen Harris    male  22.0      1   \n",
      "1  Cumings, Mrs. John Bradley (Florence Briggs Th...  female  38.0      1   \n",
      "2                             Heikkinen, Miss. Laina  female  26.0      0   \n",
      "3       Futrelle, Mrs. Jacques Heath (Lily May Peel)  female  35.0      1   \n",
      "4                           Allen, Mr. William Henry    male  35.0      0   \n",
      "\n",
      "   Parch            Ticket     Fare Cabin Embarked  \n",
      "0      0         A/5 21171   7.2500   NaN        S  \n",
      "1      0          PC 17599  71.2833   C85        C  \n",
      "2      0  STON/O2. 3101282   7.9250   NaN        S  \n",
      "3      0            113803  53.1000  C123        S  \n",
      "4      0            373450   8.0500   NaN        S  \n"
     ]
    }
   ],
   "source": [
    "# titanic dataset, unzip it imported as train.csv (training dataset)\n",
    "\n",
    "import pandas as pd\n",
    "df = pd.read_csv('train.csv')\n",
    "print(df.head())"
   ]
  },
  {
   "cell_type": "code",
   "execution_count": 226,
   "id": "006482d3",
   "metadata": {},
   "outputs": [
    {
     "name": "stdout",
     "output_type": "stream",
     "text": [
      "<class 'pandas.core.frame.DataFrame'>\n",
      "RangeIndex: 891 entries, 0 to 890\n",
      "Data columns (total 12 columns):\n",
      " #   Column       Non-Null Count  Dtype  \n",
      "---  ------       --------------  -----  \n",
      " 0   PassengerId  891 non-null    int64  \n",
      " 1   Survived     891 non-null    int64  \n",
      " 2   Pclass       891 non-null    int64  \n",
      " 3   Name         891 non-null    object \n",
      " 4   Sex          891 non-null    object \n",
      " 5   Age          714 non-null    float64\n",
      " 6   SibSp        891 non-null    int64  \n",
      " 7   Parch        891 non-null    int64  \n",
      " 8   Ticket       891 non-null    object \n",
      " 9   Fare         891 non-null    float64\n",
      " 10  Cabin        204 non-null    object \n",
      " 11  Embarked     889 non-null    object \n",
      "dtypes: float64(2), int64(5), object(5)\n",
      "memory usage: 83.7+ KB\n"
     ]
    }
   ],
   "source": [
    "df.info()"
   ]
  },
  {
   "cell_type": "code",
   "execution_count": 227,
   "id": "e7cb257f",
   "metadata": {},
   "outputs": [],
   "source": [
    "#drop unnecessary rows\n",
    "\n",
    "df.drop([\"Name\",\"Cabin\",\"SibSp\",\"Parch\",\"Ticket\"],axis=1,inplace=True)"
   ]
  },
  {
   "cell_type": "code",
   "execution_count": 228,
   "id": "8e90135e",
   "metadata": {},
   "outputs": [
    {
     "data": {
      "text/plain": [
       "PassengerId      0\n",
       "Survived         0\n",
       "Pclass           0\n",
       "Sex              0\n",
       "Age            177\n",
       "Fare             0\n",
       "Embarked         2\n",
       "dtype: int64"
      ]
     },
     "execution_count": 228,
     "metadata": {},
     "output_type": "execute_result"
    }
   ],
   "source": [
    "#checking null value\n",
    "df.isnull().sum()"
   ]
  },
  {
   "cell_type": "code",
   "execution_count": 229,
   "id": "b5df2c66",
   "metadata": {},
   "outputs": [],
   "source": [
    "#replace null value in age with median\n",
    "\n",
    "age=df['Age'].median()\n",
    "df['Age']= df['Age'].fillna(age)"
   ]
  },
  {
   "cell_type": "code",
   "execution_count": 230,
   "id": "d597f4aa",
   "metadata": {},
   "outputs": [
    {
     "name": "stdout",
     "output_type": "stream",
     "text": [
      "<class 'pandas.core.frame.DataFrame'>\n",
      "RangeIndex: 891 entries, 0 to 890\n",
      "Data columns (total 7 columns):\n",
      " #   Column       Non-Null Count  Dtype  \n",
      "---  ------       --------------  -----  \n",
      " 0   PassengerId  891 non-null    int64  \n",
      " 1   Survived     891 non-null    int64  \n",
      " 2   Pclass       891 non-null    int64  \n",
      " 3   Sex          891 non-null    object \n",
      " 4   Age          891 non-null    float64\n",
      " 5   Fare         891 non-null    float64\n",
      " 6   Embarked     891 non-null    object \n",
      "dtypes: float64(2), int64(3), object(2)\n",
      "memory usage: 48.9+ KB\n"
     ]
    }
   ],
   "source": [
    "#embarked value count and empty value fill with S\n",
    "df['Embarked'].value_counts()\n",
    "\n",
    "df['Embarked']=df['Embarked'].fillna('S')\n",
    "\n",
    "df.isnull().sum()\n",
    "\n",
    "df.info()"
   ]
  },
  {
   "cell_type": "code",
   "execution_count": 231,
   "id": "6c39fd15",
   "metadata": {},
   "outputs": [],
   "source": [
    "#sorting and grouping\n",
    "\n",
    "#sort\n",
    "df['Age'].value_counts().sort_index()\n",
    "\n",
    "#age round integer\n",
    "df['Age']=round(df['Age']).astype('int')\n",
    "df.nunique()\n",
    "\n",
    "\n",
    "#age grouping\n",
    "df['Age'].value_counts().sort_index()\n",
    "\n",
    "def categorize_age(age):\n",
    "    if age <= 4:\n",
    "        return \"Baby\"\n",
    "    elif age <= 12 and age>=5:\n",
    "        return \"Child\"\n",
    "    elif age>=13 and age <= 19:\n",
    "        return \"Teen\"\n",
    "    elif age>=20 and age <= 39:\n",
    "        return \"Adult\"\n",
    "    elif age >=40 and age <= 59:\n",
    "        return \"Middle Age Adult\"\n",
    "    else:\n",
    "        return \"Senior Adult\"\n",
    "df[\"Age_group\"] = df[\"Age\"].apply(categorize_age)\n",
    "df[\"Age_group\"].value_counts()\n",
    "df.pop(\"Age\")\n",
    "\n",
    "df['Fare']=df['Fare'].round(4)"
   ]
  },
  {
   "cell_type": "code",
   "execution_count": null,
   "id": "c8bfe956",
   "metadata": {},
   "outputs": [],
   "source": []
  },
  {
   "cell_type": "code",
   "execution_count": 232,
   "id": "4d98ea00",
   "metadata": {},
   "outputs": [
    {
     "name": "stdout",
     "output_type": "stream",
     "text": [
      "   onehot_encoding__Embarked_Q  onehot_encoding__Embarked_S  \\\n",
      "0                          0.0                          1.0   \n",
      "1                          0.0                          0.0   \n",
      "2                          0.0                          1.0   \n",
      "3                          0.0                          1.0   \n",
      "4                          0.0                          1.0   \n",
      "\n",
      "   ordinal_encoding__Pclass  ordinal_encoding__Age_group  \\\n",
      "0                       2.0                          3.0   \n",
      "1                       0.0                          3.0   \n",
      "2                       2.0                          3.0   \n",
      "3                       0.0                          3.0   \n",
      "4                       2.0                          3.0   \n",
      "\n",
      "   binary_encoding__Sex  remainder__PassengerId  remainder__Survived  \\\n",
      "0                   0.0                     1.0                  0.0   \n",
      "1                   1.0                     2.0                  1.0   \n",
      "2                   1.0                     3.0                  1.0   \n",
      "3                   1.0                     4.0                  1.0   \n",
      "4                   0.0                     5.0                  0.0   \n",
      "\n",
      "   remainder__Fare  \n",
      "0           7.2500  \n",
      "1          71.2833  \n",
      "2           7.9250  \n",
      "3          53.1000  \n",
      "4           8.0500  \n"
     ]
    }
   ],
   "source": [
    "#encoding and feature scaling\n",
    "\n",
    "from sklearn.preprocessing import OneHotEncoder,LabelEncoder, OrdinalEncoder\n",
    "\n",
    "from sklearn.compose import ColumnTransformer\n",
    "\n",
    "# Convert 'Sex' column to a NumPy array with the correct shape\n",
    "df[\"Sex\"] = df[\"Sex\"].astype(str)  # Ensuring values are treated as strings\n",
    "\n",
    "\n",
    "Ohe=OneHotEncoder(drop='first',sparse_output=False)\n",
    "OE=OrdinalEncoder(categories=[[1,2,3],[\"Baby\", \"Child\", \"Teen\", \"Adult\", \"Middle Age Adult\", \"Senior Adult\"]])\n",
    "binary_encoder = OrdinalEncoder(categories=[[\"male\", \"female\"]])  # Explicit categories\n",
    "\n",
    "preprocessor = ColumnTransformer([\n",
    "    (\"onehot_encoding\", Ohe, [\"Embarked\"]),\n",
    "    (\"ordinal_encoding\", OE, [\"Pclass\", \"Age_group\"]),\n",
    "    (\"binary_encoding\", binary_encoder, [\"Sex\"])  # Apply binary encoding to Sex\n",
    "], remainder=\"passthrough\")\n",
    "\n",
    "df_encoded = preprocessor.fit_transform(df)\n",
    "df_encoded = pd.DataFrame(df_encoded, columns=preprocessor.get_feature_names_out())\n",
    "\n",
    "print(df_encoded.head())  # Check results\n",
    "\n",
    "\n",
    "df_encoded.rename(columns={\"remainder__PassengerId\":\"PassengerId\", \"remainder__Fare\":\"Fare\",\"binary_encoding__Sex\":\"Sex\", \"onehot_encoding__Embarked_Q\":\"Embarked_Q\", \"onehot_encoding__Embarked_S\":\"Embarked_S\", \"ordinal_encoding__Pclass\":\"Pclass\", \"ordinal_encoding__Age_group\":\"Age_group\",\"remainder__Survived\":\"Survived\"},inplace=True)\n",
    "\n",
    "\n",
    "#feature scaling\n",
    "\n",
    "#from sklearn.preprocessing import StandardScaler\n",
    "#scale=StandardScaler()\n",
    "#scaler=ColumnTransformer([(\"scaling\",scale,['Fare'])],remainder=\"passthrough\")\n",
    "#df_scaled=scaler.fit_transform(df_encoded)\n",
    "\n",
    "#df_encoded.info()"
   ]
  },
  {
   "cell_type": "code",
   "execution_count": 233,
   "id": "0bcc14f7",
   "metadata": {},
   "outputs": [],
   "source": [
    "#ensure Survived is in int type\n",
    "df_encoded[\"Survived\"] = df_encoded[\"Survived\"].astype(int)\n",
    "\n",
    "# Define the features and the target variable\n",
    "X = df_encoded.drop(['Survived'], axis=1) #independent variables (predictors) \n",
    "y = df_encoded['Survived'] #dependent variables (target\n"
   ]
  },
  {
   "cell_type": "code",
   "execution_count": 234,
   "id": "593eba48",
   "metadata": {},
   "outputs": [
    {
     "data": {
      "text/plain": [
       "Embarked_Q     0\n",
       "Embarked_S     0\n",
       "Pclass         0\n",
       "Age_group      0\n",
       "Sex            0\n",
       "PassengerId    0\n",
       "Fare           0\n",
       "dtype: int64"
      ]
     },
     "execution_count": 234,
     "metadata": {},
     "output_type": "execute_result"
    }
   ],
   "source": [
    "#handling data imbalance\n",
    "\n",
    "from collections import Counter\n",
    "Counter(y)\n",
    "\n",
    "## handling imbalanced data\n",
    "from imblearn.combine import SMOTEENN\n",
    "sm = SMOTEENN(random_state=0)\n",
    "X_resampled, y_resampled = sm.fit_resample(X,y)\n",
    "\n",
    "Counter(y_resampled)\n",
    "\n",
    "\n",
    "\n",
    "# Split the data into training+validation and testing sets (80% training+validation, 20% testing)\n",
    "X_train, X_test, y_train, y_test = train_test_split(X_resampled, y_resampled, test_size=0.2, random_state=42)\n",
    "\n",
    "X_train\n",
    "\n",
    "y_train\n",
    "\n",
    "y_test\n",
    "\n",
    "\n",
    "#summarize missing values - X_train\n",
    "X_train.isnull().sum()"
   ]
  },
  {
   "cell_type": "code",
   "execution_count": 235,
   "id": "3b6fa773",
   "metadata": {},
   "outputs": [
    {
     "name": "stderr",
     "output_type": "stream",
     "text": [
      "c:\\Users\\ratsa\\anaconda3\\Lib\\site-packages\\sklearn\\linear_model\\_logistic.py:469: ConvergenceWarning: lbfgs failed to converge (status=1):\n",
      "STOP: TOTAL NO. of ITERATIONS REACHED LIMIT.\n",
      "\n",
      "Increase the number of iterations (max_iter) or scale the data as shown in:\n",
      "    https://scikit-learn.org/stable/modules/preprocessing.html\n",
      "Please also refer to the documentation for alternative solver options:\n",
      "    https://scikit-learn.org/stable/modules/linear_model.html#logistic-regression\n",
      "  n_iter_i = _check_optimize_result(\n"
     ]
    },
    {
     "name": "stdout",
     "output_type": "stream",
     "text": [
      "    Logistic Regression  Random Forest  Gradient Boosting  Decision Tree  \\\n",
      "0                     1              1                  1              1   \n",
      "1                     0              0                  0              0   \n",
      "2                     1              1                  1              1   \n",
      "3                     1              1                  1              1   \n",
      "4                     0              0                  0              0   \n",
      "..                  ...            ...                ...            ...   \n",
      "67                    1              1                  1              1   \n",
      "68                    1              1                  1              1   \n",
      "69                    0              0                  0              0   \n",
      "70                    1              1                  1              1   \n",
      "71                    1              1                  1              1   \n",
      "\n",
      "    Support Vector Machine  K-Nearest Neighbors  \n",
      "0                        1                    1  \n",
      "1                        1                    1  \n",
      "2                        0                    1  \n",
      "3                        1                    1  \n",
      "4                        1                    0  \n",
      "..                     ...                  ...  \n",
      "67                       1                    1  \n",
      "68                       1                    1  \n",
      "69                       1                    0  \n",
      "70                       1                    1  \n",
      "71                       1                    1  \n",
      "\n",
      "[72 rows x 6 columns]\n",
      "\n",
      "Actual vs. Predicted values for the best model:\n",
      "     Actual Value  Predicted Value\n",
      "224             1                1\n",
      "42              0                0\n",
      "285             1                1\n",
      "302             1                1\n",
      "56              0                0\n",
      "Saved predictions to predictions.xlsx\n",
      "Model Performance:\n",
      "Gradient Boosting: 0.944444\n",
      "Decision Tree: 0.930556\n",
      "Logistic Regression: 0.875000\n",
      "Random Forest: 0.875000\n",
      "K-Nearest Neighbors: 0.833333\n",
      "Support Vector Machine: 0.541667\n"
     ]
    }
   ],
   "source": [
    "# Define models\n",
    "models_titanic = {\n",
    "    'Logistic Regression': LogisticRegression(),\n",
    "    'Random Forest': RandomForestClassifier(),\n",
    "    'Gradient Boosting': GradientBoostingClassifier(),\n",
    "    'Decision Tree': DecisionTreeClassifier(),\n",
    "    'Support Vector Machine': SVC(),\n",
    "    'K-Nearest Neighbors': KNeighborsClassifier()\n",
    "}\n",
    "\n",
    "# Train and evaluate models\n",
    "\n",
    "\n",
    "# Train and evaluate models\n",
    "def evaluate_models(X_train, X_test, y_train, y_test):\n",
    "    results = []\n",
    "    predictions = {}  # Store predictions for manual inspection\n",
    "    \n",
    "    for name, model in models_titanic.items():\n",
    "        model.fit(X_train, y_train)\n",
    "        y_pred = model.predict(X_test)\n",
    "        acc = accuracy_score(y_test, y_pred)\n",
    "        results.append((name, acc))\n",
    "        predictions[name] = y_pred  # Save predictions for each model\n",
    "    \n",
    "    # Sort models by accuracy\n",
    "    results.sort(key=lambda x: x[1], reverse=True)\n",
    "    return results, predictions\n",
    "\n",
    "# Evaluate models and get predictions\n",
    "results, predictions = evaluate_models(X_train, X_test, y_train, y_test)\n",
    "\n",
    "# Convert prediction list of tuples into DataFrame\n",
    "\n",
    "predictions_df = pd.DataFrame(predictions)\n",
    "print(predictions_df)\n",
    "\n",
    "\n",
    "# Create DataFrame to compare actual vs. predicted values for the best model\n",
    "best_model_name = results[0][0]  # after soring (results.sort)Get the model with highest accuracy\n",
    "y_test_pred = predictions[best_model_name]  # Get its predictions\n",
    "\n",
    "df_comparison = pd.DataFrame({\n",
    "    \"Actual Value\": y_test,\n",
    "    \"Predicted Value\": y_test_pred\n",
    "})\n",
    "\n",
    "# Print first few rows for manual inspection\n",
    "print(\"\\nActual vs. Predicted values for the best model:\")\n",
    "print(df_comparison.head())\n",
    "\n",
    "# Save to Excel for further inspection (optional)\n",
    "df_comparison.to_excel(\"predictions.xlsx\", index=False)\n",
    "print(\"Saved predictions to predictions.xlsx\")\n",
    "\n",
    "# Print model performance\n",
    "print(\"Model Performance:\")\n",
    "for name, acc in results: print(f\"{name}: {acc:.6f}\")\n",
    "    "
   ]
  },
  {
   "cell_type": "code",
   "execution_count": 236,
   "id": "35a82eef",
   "metadata": {},
   "outputs": [
    {
     "name": "stdout",
     "output_type": "stream",
     "text": [
      "<class 'pandas.core.frame.DataFrame'>\n",
      "RangeIndex: 418 entries, 0 to 417\n",
      "Data columns (total 11 columns):\n",
      " #   Column       Non-Null Count  Dtype  \n",
      "---  ------       --------------  -----  \n",
      " 0   PassengerId  418 non-null    int64  \n",
      " 1   Pclass       418 non-null    int64  \n",
      " 2   Name         418 non-null    object \n",
      " 3   Sex          418 non-null    object \n",
      " 4   Age          332 non-null    float64\n",
      " 5   SibSp        418 non-null    int64  \n",
      " 6   Parch        418 non-null    int64  \n",
      " 7   Ticket       418 non-null    object \n",
      " 8   Fare         417 non-null    float64\n",
      " 9   Cabin        91 non-null     object \n",
      " 10  Embarked     418 non-null    object \n",
      "dtypes: float64(2), int64(4), object(5)\n",
      "memory usage: 36.1+ KB\n",
      "<class 'pandas.core.frame.DataFrame'>\n",
      "RangeIndex: 418 entries, 0 to 417\n",
      "Data columns (total 6 columns):\n",
      " #   Column       Non-Null Count  Dtype  \n",
      "---  ------       --------------  -----  \n",
      " 0   PassengerId  418 non-null    int64  \n",
      " 1   Pclass       418 non-null    int64  \n",
      " 2   Sex          418 non-null    object \n",
      " 3   Age          418 non-null    float64\n",
      " 4   Fare         418 non-null    float64\n",
      " 5   Embarked     418 non-null    object \n",
      "dtypes: float64(2), int64(2), object(2)\n",
      "memory usage: 19.7+ KB\n"
     ]
    },
    {
     "data": {
      "text/plain": [
       "PassengerId    418\n",
       "Pclass           3\n",
       "Sex              2\n",
       "Age             63\n",
       "Fare           169\n",
       "Embarked         3\n",
       "dtype: int64"
      ]
     },
     "execution_count": 236,
     "metadata": {},
     "output_type": "execute_result"
    }
   ],
   "source": [
    "#prediction for new data, test.csv\n",
    "\n",
    "new_data =  pd.read_csv('test.csv')\n",
    "new_data.info()\n",
    "\n",
    "\n",
    "new_data.drop([\"Name\",\"Cabin\",\"SibSp\",\"Parch\",\"Ticket\"],axis=1,inplace=True)\n",
    "\n",
    "#checking null value\n",
    "new_data.isnull().sum()\n",
    "\n",
    "age=new_data['Age'].median()\n",
    "new_data['Age']= new_data['Age'].fillna(age)\n",
    "\n",
    "#or\n",
    "# age which contain null value replaced by median\n",
    "#df['Age'].fillna(df['Age'].median(), inplace=True)\n",
    "\n",
    "#embarked value count and empty value fill with S\n",
    "new_data['Embarked'].value_counts()\n",
    "\n",
    "new_data['Embarked']=new_data['Embarked'].fillna('S')\n",
    "\n",
    "#new_data['Fare'].fillna(new_data['Fare'].median())\n",
    "\n",
    "fare=new_data['Fare'].median()\n",
    "new_data['Fare']= new_data['Fare'].fillna(fare)\n",
    "\n",
    "new_data.isnull().sum()\n",
    "\n",
    "new_data.info()\n",
    "\n",
    "#sort\n",
    "new_data['Age'].value_counts().sort_index()\n",
    "\n",
    "#making age round integer\n",
    "\n",
    "new_data['Age']=round(new_data['Age']).astype('int')\n",
    "\n",
    "new_data['Fare']=new_data['Fare'].round(4)\n",
    "\n",
    "new_data.nunique()\n"
   ]
  },
  {
   "cell_type": "code",
   "execution_count": 237,
   "id": "fd812dc7",
   "metadata": {},
   "outputs": [],
   "source": [
    "#making age group\n",
    "new_data['Age'].value_counts().sort_index()\n",
    "\n",
    "def categorize_age(age):\n",
    "    if age <= 4:\n",
    "        return \"Baby\"\n",
    "    elif age <= 12 and age>=5:\n",
    "        return \"Child\"\n",
    "    elif age>=13 and age <= 19:\n",
    "        return \"Teen\"\n",
    "    elif age>=20 and age <= 39:\n",
    "        return \"Adult\"\n",
    "    elif age >=40 and age <= 59:\n",
    "        return \"Middle Age Adult\"\n",
    "    else:\n",
    "        return \"Senior Adult\"\n",
    "new_data[\"Age_group\"] = new_data[\"Age\"].apply(categorize_age)\n",
    "\n",
    "\n",
    "new_data[\"Age_group\"].value_counts()\n",
    "\n",
    "new_data.pop(\"Age\")\n",
    "\n",
    "new_data['Fare']=new_data['Fare'].round(4)\n"
   ]
  },
  {
   "cell_type": "code",
   "execution_count": 238,
   "id": "e7752e95",
   "metadata": {},
   "outputs": [
    {
     "name": "stdout",
     "output_type": "stream",
     "text": [
      "   onehot_encoding__Embarked_Q  onehot_encoding__Embarked_S  \\\n",
      "0                          1.0                          0.0   \n",
      "1                          0.0                          1.0   \n",
      "2                          1.0                          0.0   \n",
      "3                          0.0                          1.0   \n",
      "4                          0.0                          1.0   \n",
      "\n",
      "   ordinal_encoding__Pclass  ordinal_encoding__Age_group  \\\n",
      "0                       2.0                          3.0   \n",
      "1                       2.0                          4.0   \n",
      "2                       1.0                          5.0   \n",
      "3                       2.0                          3.0   \n",
      "4                       2.0                          3.0   \n",
      "\n",
      "   binary_encoding__Sex  remainder__PassengerId  remainder__Fare  \n",
      "0                   0.0                   892.0           7.8292  \n",
      "1                   1.0                   893.0           7.0000  \n",
      "2                   0.0                   894.0           9.6875  \n",
      "3                   0.0                   895.0           8.6625  \n",
      "4                   1.0                   896.0          12.2875  \n",
      "<class 'pandas.core.frame.DataFrame'>\n",
      "RangeIndex: 418 entries, 0 to 417\n",
      "Data columns (total 7 columns):\n",
      " #   Column       Non-Null Count  Dtype  \n",
      "---  ------       --------------  -----  \n",
      " 0   Embarked_Q   418 non-null    float64\n",
      " 1   Embarked_S   418 non-null    float64\n",
      " 2   Pclass       418 non-null    float64\n",
      " 3   Age_group    418 non-null    float64\n",
      " 4   Sex          418 non-null    float64\n",
      " 5   PassengerID  418 non-null    float64\n",
      " 6   Fare         418 non-null    float64\n",
      "dtypes: float64(7)\n",
      "memory usage: 23.0 KB\n"
     ]
    }
   ],
   "source": [
    "# encode categories, Pclass-ordinal enco., Sex-binary enco., embarked-one hot enco., age-group-ordinal\n",
    "\n",
    "\n",
    "from sklearn.compose import ColumnTransformer\n",
    "preprocessor=ColumnTransformer([(\"onehot_encoding\",Ohe,[\"Embarked\"]), \\\n",
    "                               (\"ordinal_encoding\",OE,[\"Pclass\",\"Age_group\"])],remainder=\"Fare\")\n",
    "\n",
    "\n",
    "\n",
    "# Convert 'Sex' column to a NumPy array with the correct shape\n",
    "new_data[\"Sex\"] = new_data[\"Sex\"].astype(str)  # Ensuring values are treated as strings\n",
    "\n",
    "\n",
    "\n",
    "Ohe=OneHotEncoder(drop='first',sparse_output=False)\n",
    "OE=OrdinalEncoder(categories=[[1,2,3],[\"Baby\", \"Child\", \"Teen\", \"Adult\", \"Middle Age Adult\", \"Senior Adult\"]])\n",
    "binary_encoder = OrdinalEncoder(categories=[[\"male\", \"female\"]])  # Explicit categories\n",
    "\n",
    "preprocessor = ColumnTransformer([\n",
    "    (\"onehot_encoding\", Ohe, [\"Embarked\"]),\n",
    "    (\"ordinal_encoding\", OE, [\"Pclass\", \"Age_group\"]),\n",
    "    (\"binary_encoding\", binary_encoder, [\"Sex\"])  # Apply binary encoding to Sex\n",
    "], remainder=\"passthrough\")\n",
    "\n",
    "new_data_encoded = preprocessor.fit_transform(new_data)\n",
    "new_data_encoded = pd.DataFrame(new_data_encoded, columns=preprocessor.get_feature_names_out())\n",
    "\n",
    "print(new_data_encoded.head())  # Check results\n",
    "\n",
    "\n",
    "new_data_encoded.rename(columns={ \"remainder__PassengerId\":\"PassengerID\", \"remainder__Fare\":\"Fare\",\"binary_encoding__Sex\":\"Sex\", \"onehot_encoding__Embarked_Q\":\"Embarked_Q\", \"onehot_encoding__Embarked_S\":\"Embarked_S\", \"ordinal_encoding__Pclass\":\"Pclass\", \"ordinal_encoding__Age_group\":\"Age_group\"},inplace=True)\n",
    "\n",
    "\n",
    "new_data_encoded.info()"
   ]
  },
  {
   "cell_type": "code",
   "execution_count": 241,
   "id": "2b8ff655",
   "metadata": {},
   "outputs": [
    {
     "ename": "ValueError",
     "evalue": "The feature names should match those that were passed during fit.\nFeature names unseen at fit time:\n- PassengerID\nFeature names seen at fit time, yet now missing:\n- PassengerId\n",
     "output_type": "error",
     "traceback": [
      "\u001b[1;31m---------------------------------------------------------------------------\u001b[0m",
      "\u001b[1;31mValueError\u001b[0m                                Traceback (most recent call last)",
      "Cell \u001b[1;32mIn[241], line 3\u001b[0m\n\u001b[0;32m      1\u001b[0m \u001b[38;5;66;03m#prediction for test\u001b[39;00m\n\u001b[1;32m----> 3\u001b[0m new_predictions \u001b[38;5;241m=\u001b[39m models_titanic[\u001b[38;5;124m'\u001b[39m\u001b[38;5;124mGradient Boosting\u001b[39m\u001b[38;5;124m'\u001b[39m]\u001b[38;5;241m.\u001b[39mpredict(new_data_encoded)\n\u001b[0;32m      6\u001b[0m best_model \u001b[38;5;241m=\u001b[39m GradientBoostingClassifier()  \n\u001b[0;32m      7\u001b[0m best_model\u001b[38;5;241m.\u001b[39mfit(X_train, y_train) \n",
      "File \u001b[1;32mc:\\Users\\ratsa\\anaconda3\\Lib\\site-packages\\sklearn\\ensemble\\_gb.py:1611\u001b[0m, in \u001b[0;36mGradientBoostingClassifier.predict\u001b[1;34m(self, X)\u001b[0m\n\u001b[0;32m   1596\u001b[0m \u001b[38;5;28;01mdef\u001b[39;00m \u001b[38;5;21mpredict\u001b[39m(\u001b[38;5;28mself\u001b[39m, X):\n\u001b[0;32m   1597\u001b[0m \u001b[38;5;250m    \u001b[39m\u001b[38;5;124;03m\"\"\"Predict class for X.\u001b[39;00m\n\u001b[0;32m   1598\u001b[0m \n\u001b[0;32m   1599\u001b[0m \u001b[38;5;124;03m    Parameters\u001b[39;00m\n\u001b[1;32m   (...)\u001b[0m\n\u001b[0;32m   1609\u001b[0m \u001b[38;5;124;03m        The predicted values.\u001b[39;00m\n\u001b[0;32m   1610\u001b[0m \u001b[38;5;124;03m    \"\"\"\u001b[39;00m\n\u001b[1;32m-> 1611\u001b[0m     raw_predictions \u001b[38;5;241m=\u001b[39m \u001b[38;5;28mself\u001b[39m\u001b[38;5;241m.\u001b[39mdecision_function(X)\n\u001b[0;32m   1612\u001b[0m     \u001b[38;5;28;01mif\u001b[39;00m raw_predictions\u001b[38;5;241m.\u001b[39mndim \u001b[38;5;241m==\u001b[39m \u001b[38;5;241m1\u001b[39m:  \u001b[38;5;66;03m# decision_function already squeezed it\u001b[39;00m\n\u001b[0;32m   1613\u001b[0m         encoded_classes \u001b[38;5;241m=\u001b[39m (raw_predictions \u001b[38;5;241m>\u001b[39m\u001b[38;5;241m=\u001b[39m \u001b[38;5;241m0\u001b[39m)\u001b[38;5;241m.\u001b[39mastype(\u001b[38;5;28mint\u001b[39m)\n",
      "File \u001b[1;32mc:\\Users\\ratsa\\anaconda3\\Lib\\site-packages\\sklearn\\ensemble\\_gb.py:1564\u001b[0m, in \u001b[0;36mGradientBoostingClassifier.decision_function\u001b[1;34m(self, X)\u001b[0m\n\u001b[0;32m   1545\u001b[0m \u001b[38;5;28;01mdef\u001b[39;00m \u001b[38;5;21mdecision_function\u001b[39m(\u001b[38;5;28mself\u001b[39m, X):\n\u001b[0;32m   1546\u001b[0m \u001b[38;5;250m    \u001b[39m\u001b[38;5;124;03m\"\"\"Compute the decision function of ``X``.\u001b[39;00m\n\u001b[0;32m   1547\u001b[0m \n\u001b[0;32m   1548\u001b[0m \u001b[38;5;124;03m    Parameters\u001b[39;00m\n\u001b[1;32m   (...)\u001b[0m\n\u001b[0;32m   1562\u001b[0m \u001b[38;5;124;03m        array of shape (n_samples,).\u001b[39;00m\n\u001b[0;32m   1563\u001b[0m \u001b[38;5;124;03m    \"\"\"\u001b[39;00m\n\u001b[1;32m-> 1564\u001b[0m     X \u001b[38;5;241m=\u001b[39m \u001b[38;5;28mself\u001b[39m\u001b[38;5;241m.\u001b[39m_validate_data(\n\u001b[0;32m   1565\u001b[0m         X, dtype\u001b[38;5;241m=\u001b[39mDTYPE, order\u001b[38;5;241m=\u001b[39m\u001b[38;5;124m\"\u001b[39m\u001b[38;5;124mC\u001b[39m\u001b[38;5;124m\"\u001b[39m, accept_sparse\u001b[38;5;241m=\u001b[39m\u001b[38;5;124m\"\u001b[39m\u001b[38;5;124mcsr\u001b[39m\u001b[38;5;124m\"\u001b[39m, reset\u001b[38;5;241m=\u001b[39m\u001b[38;5;28;01mFalse\u001b[39;00m\n\u001b[0;32m   1566\u001b[0m     )\n\u001b[0;32m   1567\u001b[0m     raw_predictions \u001b[38;5;241m=\u001b[39m \u001b[38;5;28mself\u001b[39m\u001b[38;5;241m.\u001b[39m_raw_predict(X)\n\u001b[0;32m   1568\u001b[0m     \u001b[38;5;28;01mif\u001b[39;00m raw_predictions\u001b[38;5;241m.\u001b[39mshape[\u001b[38;5;241m1\u001b[39m] \u001b[38;5;241m==\u001b[39m \u001b[38;5;241m1\u001b[39m:\n",
      "File \u001b[1;32mc:\\Users\\ratsa\\anaconda3\\Lib\\site-packages\\sklearn\\base.py:608\u001b[0m, in \u001b[0;36mBaseEstimator._validate_data\u001b[1;34m(self, X, y, reset, validate_separately, cast_to_ndarray, **check_params)\u001b[0m\n\u001b[0;32m    537\u001b[0m \u001b[38;5;28;01mdef\u001b[39;00m \u001b[38;5;21m_validate_data\u001b[39m(\n\u001b[0;32m    538\u001b[0m     \u001b[38;5;28mself\u001b[39m,\n\u001b[0;32m    539\u001b[0m     X\u001b[38;5;241m=\u001b[39m\u001b[38;5;124m\"\u001b[39m\u001b[38;5;124mno_validation\u001b[39m\u001b[38;5;124m\"\u001b[39m,\n\u001b[1;32m   (...)\u001b[0m\n\u001b[0;32m    544\u001b[0m     \u001b[38;5;241m*\u001b[39m\u001b[38;5;241m*\u001b[39mcheck_params,\n\u001b[0;32m    545\u001b[0m ):\n\u001b[0;32m    546\u001b[0m \u001b[38;5;250m    \u001b[39m\u001b[38;5;124;03m\"\"\"Validate input data and set or check the `n_features_in_` attribute.\u001b[39;00m\n\u001b[0;32m    547\u001b[0m \n\u001b[0;32m    548\u001b[0m \u001b[38;5;124;03m    Parameters\u001b[39;00m\n\u001b[1;32m   (...)\u001b[0m\n\u001b[0;32m    606\u001b[0m \u001b[38;5;124;03m        validated.\u001b[39;00m\n\u001b[0;32m    607\u001b[0m \u001b[38;5;124;03m    \"\"\"\u001b[39;00m\n\u001b[1;32m--> 608\u001b[0m     \u001b[38;5;28mself\u001b[39m\u001b[38;5;241m.\u001b[39m_check_feature_names(X, reset\u001b[38;5;241m=\u001b[39mreset)\n\u001b[0;32m    610\u001b[0m     \u001b[38;5;28;01mif\u001b[39;00m y \u001b[38;5;129;01mis\u001b[39;00m \u001b[38;5;28;01mNone\u001b[39;00m \u001b[38;5;129;01mand\u001b[39;00m \u001b[38;5;28mself\u001b[39m\u001b[38;5;241m.\u001b[39m_get_tags()[\u001b[38;5;124m\"\u001b[39m\u001b[38;5;124mrequires_y\u001b[39m\u001b[38;5;124m\"\u001b[39m]:\n\u001b[0;32m    611\u001b[0m         \u001b[38;5;28;01mraise\u001b[39;00m \u001b[38;5;167;01mValueError\u001b[39;00m(\n\u001b[0;32m    612\u001b[0m             \u001b[38;5;124mf\u001b[39m\u001b[38;5;124m\"\u001b[39m\u001b[38;5;124mThis \u001b[39m\u001b[38;5;132;01m{\u001b[39;00m\u001b[38;5;28mself\u001b[39m\u001b[38;5;241m.\u001b[39m\u001b[38;5;18m__class__\u001b[39m\u001b[38;5;241m.\u001b[39m\u001b[38;5;18m__name__\u001b[39m\u001b[38;5;132;01m}\u001b[39;00m\u001b[38;5;124m estimator \u001b[39m\u001b[38;5;124m\"\u001b[39m\n\u001b[0;32m    613\u001b[0m             \u001b[38;5;124m\"\u001b[39m\u001b[38;5;124mrequires y to be passed, but the target y is None.\u001b[39m\u001b[38;5;124m\"\u001b[39m\n\u001b[0;32m    614\u001b[0m         )\n",
      "File \u001b[1;32mc:\\Users\\ratsa\\anaconda3\\Lib\\site-packages\\sklearn\\base.py:535\u001b[0m, in \u001b[0;36mBaseEstimator._check_feature_names\u001b[1;34m(self, X, reset)\u001b[0m\n\u001b[0;32m    530\u001b[0m \u001b[38;5;28;01mif\u001b[39;00m \u001b[38;5;129;01mnot\u001b[39;00m missing_names \u001b[38;5;129;01mand\u001b[39;00m \u001b[38;5;129;01mnot\u001b[39;00m unexpected_names:\n\u001b[0;32m    531\u001b[0m     message \u001b[38;5;241m+\u001b[39m\u001b[38;5;241m=\u001b[39m (\n\u001b[0;32m    532\u001b[0m         \u001b[38;5;124m\"\u001b[39m\u001b[38;5;124mFeature names must be in the same order as they were in fit.\u001b[39m\u001b[38;5;130;01m\\n\u001b[39;00m\u001b[38;5;124m\"\u001b[39m\n\u001b[0;32m    533\u001b[0m     )\n\u001b[1;32m--> 535\u001b[0m \u001b[38;5;28;01mraise\u001b[39;00m \u001b[38;5;167;01mValueError\u001b[39;00m(message)\n",
      "\u001b[1;31mValueError\u001b[0m: The feature names should match those that were passed during fit.\nFeature names unseen at fit time:\n- PassengerID\nFeature names seen at fit time, yet now missing:\n- PassengerId\n"
     ]
    }
   ],
   "source": [
    "#prediction for test\n",
    "\n",
    "new_predictions = models_titanic['Gradient Boosting'].predict(new_data_encoded)\n",
    "\n",
    "\n",
    "best_model = GradientBoostingClassifier()  \n",
    "best_model.fit(X_train, y_train) \n",
    "\n",
    "y_pred_new = best_model.predict(new_data_encoded)\n",
    "new_data_encoded[\"Predicted_Survived\"] = y_pred_new\n",
    "print(new_data_encoded.head())\n",
    "\n",
    "#review prediction distributions:\n",
    "print(pd.Series(y_pred_new).value_counts())\n",
    "\n"
   ]
  },
  {
   "cell_type": "code",
   "execution_count": null,
   "id": "735cc53f",
   "metadata": {},
   "outputs": [
    {
     "data": {
      "image/png": "[encoded data removed]",
      "text/plain": [
       "<Figure size 800x500 with 1 Axes>"
      ]
     },
     "metadata": {},
     "output_type": "display_data"
    }
   ],
   "source": [
    "#boxplot\n",
    "\n",
    "plt.figure(figsize=(8, 5))\n",
    "sns.boxplot(data=new_data_encoded, x=\"Predicted_Survived\", y=\"Fare\")\n",
    "\n",
    "plt.xlabel(\"Predicted_Survived\")\n",
    "plt.ylabel(\"Fare\")\n",
    "plt.title(\"Fare Distribution by Survival\")\n",
    "plt.show()\n",
    "\n",
    "new_data_encoded.to_csv(\"new_data_encoded.csv\", index=False)\n",
    "\n",
    "\n",
    "\n"
   ]
  },
  {
   "cell_type": "code",
   "execution_count": null,
   "id": "2bf5385d",
   "metadata": {},
   "outputs": [
    {
     "data": {
      "image/png": "[encoded data removed]",
      "text/plain": [
       "<Figure size 800x500 with 1 Axes>"
      ]
     },
     "metadata": {},
     "output_type": "display_data"
    },
    {
     "data": {
      "image/png": "[encoded data removed]",
      "text/plain": [
       "<Figure size 800x500 with 1 Axes>"
      ]
     },
     "metadata": {},
     "output_type": "display_data"
    }
   ],
   "source": [
    "# ploting group wise\n",
    "\n",
    "import pandas as pd\n",
    "import seaborn as sns\n",
    "import matplotlib.pyplot as plt\n",
    "\n",
    "# Define bins and labels\n",
    "bins = [0, 100, 300, 600]\n",
    "labels = [\"Low (0-100)\", \"Medium (100-300)\", \"High (300-600)\"]\n",
    "\n",
    "# Create a new column with categorized fare values\n",
    "new_data_encoded[\"Fare_Category\"] = pd.cut(new_data_encoded[\"Fare\"], bins=bins, labels=labels)\n",
    "\n",
    "plt.figure(figsize=(8, 5))\n",
    "sns.countplot(data=new_data_encoded, x=\"Fare_Category\", hue=\"Predicted_Survived\")\n",
    "\n",
    "plt.xlabel(\"Fare Category\")\n",
    "plt.ylabel(\"Count\")\n",
    "plt.title(\"Survival Count by Fare Category\")\n",
    "plt.legend(title=\"Survived\", labels=[\"Did Not Survive (0)\", \"Survived (1)\"])\n",
    "plt.show()\n",
    "\n",
    "\n",
    "new_data_encoded['Pclass'].value_counts()\n",
    "\n",
    "plt.figure(figsize=(8, 5))\n",
    "sns.countplot(data=new_data_encoded, x=\"Pclass\", hue=\"Predicted_Survived\")\n",
    "\n",
    "plt.xlabel(\"Pclass\")\n",
    "plt.ylabel(\"Count\")\n",
    "plt.title(\"Survival Count by PClass\")\n",
    "plt.legend(title=\"Survived\", labels=[\"Did Not Survive (0)\", \"Survived (1)\"])\n",
    "plt.show()\n"
   ]
  }
 ],
 "metadata": {
  "kernelspec": {
   "display_name": "base",
   "language": "python",
   "name": "python3"
  },
  "language_info": {
   "codemirror_mode": {
    "name": "ipython",
    "version": 3
   },
   "file_extension": ".py",
   "mimetype": "text/x-python",
   "name": "python",
   "nbconvert_exporter": "python",
   "pygments_lexer": "ipython3",
   "version": "3.12.7"
  }
 },
 "nbformat": 4,
 "nbformat_minor": 5
}
